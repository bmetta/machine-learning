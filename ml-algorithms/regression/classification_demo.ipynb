{
 "cells": [
  {
   "cell_type": "markdown",
   "metadata": {},
   "source": [
    "# Decision Tree"
   ]
  },
  {
   "cell_type": "code",
   "execution_count": 2,
   "metadata": {},
   "outputs": [],
   "source": [
    "import sklearn\n",
    "from sklearn.datasets import load_iris\n",
    "from sklearn import tree\n",
    "from sklearn.metrics import accuracy_score, precision_score, recall_score, confusion_matrix, precision_recall_fscore_support\n",
    "\n",
    "import graphviz\n",
    "import pandas as pd"
   ]
  },
  {
   "cell_type": "code",
   "execution_count": 3,
   "metadata": {},
   "outputs": [],
   "source": [
    "## Load the  dataset\n",
    "iris = load_iris()"
   ]
  },
  {
   "cell_type": "code",
   "execution_count": 4,
   "metadata": {},
   "outputs": [
    {
     "data": {
      "text/plain": [
       "numpy.ndarray"
      ]
     },
     "execution_count": 4,
     "metadata": {},
     "output_type": "execute_result"
    }
   ],
   "source": [
    "type(iris.data)"
   ]
  },
  {
   "cell_type": "code",
   "execution_count": 5,
   "metadata": {},
   "outputs": [
    {
     "data": {
      "text/plain": [
       "(150, 4)"
      ]
     },
     "execution_count": 5,
     "metadata": {},
     "output_type": "execute_result"
    }
   ],
   "source": [
    "iris.data.shape"
   ]
  },
  {
   "cell_type": "code",
   "execution_count": 6,
   "metadata": {},
   "outputs": [
    {
     "data": {
      "text/plain": [
       "['sepal length (cm)',\n",
       " 'sepal width (cm)',\n",
       " 'petal length (cm)',\n",
       " 'petal width (cm)']"
      ]
     },
     "execution_count": 6,
     "metadata": {},
     "output_type": "execute_result"
    }
   ],
   "source": [
    "iris.feature_names"
   ]
  },
  {
   "cell_type": "code",
   "execution_count": 7,
   "metadata": {},
   "outputs": [
    {
     "data": {
      "text/plain": [
       "array(['setosa', 'versicolor', 'virginica'], dtype='<U10')"
      ]
     },
     "execution_count": 7,
     "metadata": {},
     "output_type": "execute_result"
    }
   ],
   "source": [
    "iris.target_names"
   ]
  },
  {
   "cell_type": "code",
   "execution_count": 8,
   "metadata": {},
   "outputs": [
    {
     "data": {
      "text/plain": [
       "array([[5.1, 3.5, 1.4, 0.2],\n",
       "       [4.9, 3. , 1.4, 0.2],\n",
       "       [4.7, 3.2, 1.3, 0.2],\n",
       "       [4.6, 3.1, 1.5, 0.2]])"
      ]
     },
     "execution_count": 8,
     "metadata": {},
     "output_type": "execute_result"
    }
   ],
   "source": [
    "iris.data[:4]"
   ]
  },
  {
   "cell_type": "code",
   "execution_count": 9,
   "metadata": {},
   "outputs": [
    {
     "data": {
      "text/plain": [
       "array([0, 0, 0, 0, 0, 0, 0, 0, 0, 0, 0, 0, 0, 0, 0, 0, 0, 0, 0, 0, 0, 0,\n",
       "       0, 0, 0, 0, 0, 0, 0, 0, 0, 0, 0, 0, 0, 0, 0, 0, 0, 0, 0, 0, 0, 0,\n",
       "       0, 0, 0, 0, 0, 0, 1, 1, 1, 1, 1, 1, 1, 1, 1, 1, 1, 1, 1, 1, 1, 1,\n",
       "       1, 1, 1, 1, 1, 1, 1, 1, 1, 1, 1, 1, 1, 1, 1, 1, 1, 1, 1, 1, 1, 1,\n",
       "       1, 1, 1, 1, 1, 1, 1, 1, 1, 1, 1, 1, 2, 2, 2, 2, 2, 2, 2, 2, 2, 2,\n",
       "       2, 2, 2, 2, 2, 2, 2, 2, 2, 2, 2, 2, 2, 2, 2, 2, 2, 2, 2, 2, 2, 2,\n",
       "       2, 2, 2, 2, 2, 2, 2, 2, 2, 2, 2, 2, 2, 2, 2, 2, 2, 2])"
      ]
     },
     "execution_count": 9,
     "metadata": {},
     "output_type": "execute_result"
    }
   ],
   "source": [
    "iris.target[:]"
   ]
  },
  {
   "cell_type": "code",
   "execution_count": 10,
   "metadata": {},
   "outputs": [
    {
     "name": "stdout",
     "output_type": "stream",
     "text": [
      "(150, 5)\n",
      "     sepal length (cm)  sepal width (cm)  petal length (cm)  petal width (cm)  \\\n",
      "15                 5.7               4.4                1.5               0.4   \n",
      "35                 5.0               3.2                1.2               0.2   \n",
      "67                 5.8               2.7                4.1               1.0   \n",
      "52                 6.9               3.1                4.9               1.5   \n",
      "106                4.9               2.5                4.5               1.7   \n",
      "\n",
      "     class  \n",
      "15       0  \n",
      "35       0  \n",
      "67       1  \n",
      "52       1  \n",
      "106      2  \n"
     ]
    }
   ],
   "source": [
    "# Shuffle data\n",
    "df = pd.DataFrame(iris.data, columns=iris.feature_names)\n",
    "df['class'] = pd.DataFrame(iris.target)\n",
    "print(df.shape)\n",
    "df = sklearn.utils.shuffle(df)\n",
    "print(df.head())"
   ]
  },
  {
   "cell_type": "code",
   "execution_count": 11,
   "metadata": {},
   "outputs": [],
   "source": [
    "# features and target \n",
    "df_x = df.iloc[:, :4]\n",
    "df_y = df.iloc[:, 4]"
   ]
  },
  {
   "cell_type": "code",
   "execution_count": 12,
   "metadata": {},
   "outputs": [],
   "source": [
    "# Create DecisionTreeClassifier object\n",
    "n_train = 100 # Split the targets into training/testing sets\n",
    "clf = tree.DecisionTreeClassifier(criterion  = 'gini') # 'entropy'\n",
    "clf = clf.fit(df_x[:n_train], df_y[:n_train])"
   ]
  },
  {
   "cell_type": "code",
   "execution_count": 13,
   "metadata": {},
   "outputs": [
    {
     "data": {
      "text/plain": [
       "'iris.pdf'"
      ]
     },
     "execution_count": 13,
     "metadata": {},
     "output_type": "execute_result"
    }
   ],
   "source": [
    "dot_data = tree.export_graphviz(clf, out_file=None) \n",
    "graph = graphviz.Source(dot_data) \n",
    "graph.render(\"iris\") "
   ]
  },
  {
   "cell_type": "code",
   "execution_count": 14,
   "metadata": {},
   "outputs": [
    {
     "data": {
      "image/svg+xml": [
       "<?xml version=\"1.0\" encoding=\"UTF-8\" standalone=\"no\"?>\r\n",
       "<!DOCTYPE svg PUBLIC \"-//W3C//DTD SVG 1.1//EN\"\r\n",
       " \"http://www.w3.org/Graphics/SVG/1.1/DTD/svg11.dtd\">\r\n",
       "<!-- Generated by graphviz version 2.38.0 (20140413.2041)\r\n",
       " -->\r\n",
       "<!-- Title: Tree Pages: 1 -->\r\n",
       "<svg width=\"855pt\" height=\"552pt\"\r\n",
       " viewBox=\"0.00 0.00 854.50 552.00\" xmlns=\"http://www.w3.org/2000/svg\" xmlns:xlink=\"http://www.w3.org/1999/xlink\">\r\n",
       "<g id=\"graph0\" class=\"graph\" transform=\"scale(1 1) rotate(0) translate(4 548)\">\r\n",
       "<title>Tree</title>\r\n",
       "<polygon fill=\"white\" stroke=\"none\" points=\"-4,4 -4,-548 850.5,-548 850.5,4 -4,4\"/>\r\n",
       "<!-- 0 -->\r\n",
       "<g id=\"node1\" class=\"node\"><title>0</title>\r\n",
       "<path fill=\"#e58139\" fill-opacity=\"0.015686\" stroke=\"black\" d=\"M501.5,-544C501.5,-544 374.5,-544 374.5,-544 368.5,-544 362.5,-538 362.5,-532 362.5,-532 362.5,-473 362.5,-473 362.5,-467 368.5,-461 374.5,-461 374.5,-461 501.5,-461 501.5,-461 507.5,-461 513.5,-467 513.5,-473 513.5,-473 513.5,-532 513.5,-532 513.5,-538 507.5,-544 501.5,-544\"/>\r\n",
       "<text text-anchor=\"start\" x=\"370.5\" y=\"-528.8\" font-family=\"Helvetica,sans-Serif\" font-size=\"14.00\">petal width (cm) ≤ 0.8</text>\r\n",
       "<text text-anchor=\"start\" x=\"400.5\" y=\"-513.8\" font-family=\"Helvetica,sans-Serif\" font-size=\"14.00\">gini = 0.667</text>\r\n",
       "<text text-anchor=\"start\" x=\"390.5\" y=\"-498.8\" font-family=\"Helvetica,sans-Serif\" font-size=\"14.00\">samples = 100</text>\r\n",
       "<text text-anchor=\"start\" x=\"377.5\" y=\"-483.8\" font-family=\"Helvetica,sans-Serif\" font-size=\"14.00\">value = [34, 33, 33]</text>\r\n",
       "<text text-anchor=\"start\" x=\"392\" y=\"-468.8\" font-family=\"Helvetica,sans-Serif\" font-size=\"14.00\">class = setosa</text>\r\n",
       "</g>\r\n",
       "<!-- 1 -->\r\n",
       "<g id=\"node2\" class=\"node\"><title>1</title>\r\n",
       "<path fill=\"#e58139\" stroke=\"black\" d=\"M407.5,-417.5C407.5,-417.5 310.5,-417.5 310.5,-417.5 304.5,-417.5 298.5,-411.5 298.5,-405.5 298.5,-405.5 298.5,-361.5 298.5,-361.5 298.5,-355.5 304.5,-349.5 310.5,-349.5 310.5,-349.5 407.5,-349.5 407.5,-349.5 413.5,-349.5 419.5,-355.5 419.5,-361.5 419.5,-361.5 419.5,-405.5 419.5,-405.5 419.5,-411.5 413.5,-417.5 407.5,-417.5\"/>\r\n",
       "<text text-anchor=\"start\" x=\"330\" y=\"-402.3\" font-family=\"Helvetica,sans-Serif\" font-size=\"14.00\">gini = 0.0</text>\r\n",
       "<text text-anchor=\"start\" x=\"315.5\" y=\"-387.3\" font-family=\"Helvetica,sans-Serif\" font-size=\"14.00\">samples = 34</text>\r\n",
       "<text text-anchor=\"start\" x=\"306.5\" y=\"-372.3\" font-family=\"Helvetica,sans-Serif\" font-size=\"14.00\">value = [34, 0, 0]</text>\r\n",
       "<text text-anchor=\"start\" x=\"313\" y=\"-357.3\" font-family=\"Helvetica,sans-Serif\" font-size=\"14.00\">class = setosa</text>\r\n",
       "</g>\r\n",
       "<!-- 0&#45;&gt;1 -->\r\n",
       "<g id=\"edge1\" class=\"edge\"><title>0&#45;&gt;1</title>\r\n",
       "<path fill=\"none\" stroke=\"black\" d=\"M410.591,-460.907C402.992,-449.652 394.731,-437.418 387.093,-426.106\"/>\r\n",
       "<polygon fill=\"black\" stroke=\"black\" points=\"389.891,-423.996 381.395,-417.667 384.09,-427.913 389.891,-423.996\"/>\r\n",
       "<text text-anchor=\"middle\" x=\"376.636\" y=\"-438.51\" font-family=\"Helvetica,sans-Serif\" font-size=\"14.00\">True</text>\r\n",
       "</g>\r\n",
       "<!-- 2 -->\r\n",
       "<g id=\"node3\" class=\"node\"><title>2</title>\r\n",
       "<path fill=\"none\" stroke=\"black\" d=\"M584.5,-425C584.5,-425 449.5,-425 449.5,-425 443.5,-425 437.5,-419 437.5,-413 437.5,-413 437.5,-354 437.5,-354 437.5,-348 443.5,-342 449.5,-342 449.5,-342 584.5,-342 584.5,-342 590.5,-342 596.5,-348 596.5,-354 596.5,-354 596.5,-413 596.5,-413 596.5,-419 590.5,-425 584.5,-425\"/>\r\n",
       "<text text-anchor=\"start\" x=\"445.5\" y=\"-409.8\" font-family=\"Helvetica,sans-Serif\" font-size=\"14.00\">petal width (cm) ≤ 1.75</text>\r\n",
       "<text text-anchor=\"start\" x=\"488\" y=\"-394.8\" font-family=\"Helvetica,sans-Serif\" font-size=\"14.00\">gini = 0.5</text>\r\n",
       "<text text-anchor=\"start\" x=\"473.5\" y=\"-379.8\" font-family=\"Helvetica,sans-Serif\" font-size=\"14.00\">samples = 66</text>\r\n",
       "<text text-anchor=\"start\" x=\"460.5\" y=\"-364.8\" font-family=\"Helvetica,sans-Serif\" font-size=\"14.00\">value = [0, 33, 33]</text>\r\n",
       "<text text-anchor=\"start\" x=\"461.5\" y=\"-349.8\" font-family=\"Helvetica,sans-Serif\" font-size=\"14.00\">class = versicolor</text>\r\n",
       "</g>\r\n",
       "<!-- 0&#45;&gt;2 -->\r\n",
       "<g id=\"edge2\" class=\"edge\"><title>0&#45;&gt;2</title>\r\n",
       "<path fill=\"none\" stroke=\"black\" d=\"M465.409,-460.907C471.414,-452.014 477.831,-442.509 484.029,-433.331\"/>\r\n",
       "<polygon fill=\"black\" stroke=\"black\" points=\"486.944,-435.267 489.64,-425.021 481.143,-431.35 486.944,-435.267\"/>\r\n",
       "<text text-anchor=\"middle\" x=\"494.398\" y=\"-445.864\" font-family=\"Helvetica,sans-Serif\" font-size=\"14.00\">False</text>\r\n",
       "</g>\r\n",
       "<!-- 3 -->\r\n",
       "<g id=\"node4\" class=\"node\"><title>3</title>\r\n",
       "<path fill=\"#39e581\" fill-opacity=\"0.874510\" stroke=\"black\" d=\"M481.5,-306C481.5,-306 340.5,-306 340.5,-306 334.5,-306 328.5,-300 328.5,-294 328.5,-294 328.5,-235 328.5,-235 328.5,-229 334.5,-223 340.5,-223 340.5,-223 481.5,-223 481.5,-223 487.5,-223 493.5,-229 493.5,-235 493.5,-235 493.5,-294 493.5,-294 493.5,-300 487.5,-306 481.5,-306\"/>\r\n",
       "<text text-anchor=\"start\" x=\"336.5\" y=\"-290.8\" font-family=\"Helvetica,sans-Serif\" font-size=\"14.00\">petal length (cm) ≤ 5.05</text>\r\n",
       "<text text-anchor=\"start\" x=\"373.5\" y=\"-275.8\" font-family=\"Helvetica,sans-Serif\" font-size=\"14.00\">gini = 0.198</text>\r\n",
       "<text text-anchor=\"start\" x=\"367.5\" y=\"-260.8\" font-family=\"Helvetica,sans-Serif\" font-size=\"14.00\">samples = 36</text>\r\n",
       "<text text-anchor=\"start\" x=\"358.5\" y=\"-245.8\" font-family=\"Helvetica,sans-Serif\" font-size=\"14.00\">value = [0, 32, 4]</text>\r\n",
       "<text text-anchor=\"start\" x=\"355.5\" y=\"-230.8\" font-family=\"Helvetica,sans-Serif\" font-size=\"14.00\">class = versicolor</text>\r\n",
       "</g>\r\n",
       "<!-- 2&#45;&gt;3 -->\r\n",
       "<g id=\"edge3\" class=\"edge\"><title>2&#45;&gt;3</title>\r\n",
       "<path fill=\"none\" stroke=\"black\" d=\"M480.224,-341.907C471.92,-332.742 463.028,-322.927 454.477,-313.489\"/>\r\n",
       "<polygon fill=\"black\" stroke=\"black\" points=\"457.019,-311.082 447.711,-306.021 451.831,-315.782 457.019,-311.082\"/>\r\n",
       "</g>\r\n",
       "<!-- 10 -->\r\n",
       "<g id=\"node11\" class=\"node\"><title>10</title>\r\n",
       "<path fill=\"#8139e5\" fill-opacity=\"0.964706\" stroke=\"black\" d=\"M693.5,-306C693.5,-306 552.5,-306 552.5,-306 546.5,-306 540.5,-300 540.5,-294 540.5,-294 540.5,-235 540.5,-235 540.5,-229 546.5,-223 552.5,-223 552.5,-223 693.5,-223 693.5,-223 699.5,-223 705.5,-229 705.5,-235 705.5,-235 705.5,-294 705.5,-294 705.5,-300 699.5,-306 693.5,-306\"/>\r\n",
       "<text text-anchor=\"start\" x=\"548.5\" y=\"-290.8\" font-family=\"Helvetica,sans-Serif\" font-size=\"14.00\">petal length (cm) ≤ 4.85</text>\r\n",
       "<text text-anchor=\"start\" x=\"585.5\" y=\"-275.8\" font-family=\"Helvetica,sans-Serif\" font-size=\"14.00\">gini = 0.064</text>\r\n",
       "<text text-anchor=\"start\" x=\"579.5\" y=\"-260.8\" font-family=\"Helvetica,sans-Serif\" font-size=\"14.00\">samples = 30</text>\r\n",
       "<text text-anchor=\"start\" x=\"570.5\" y=\"-245.8\" font-family=\"Helvetica,sans-Serif\" font-size=\"14.00\">value = [0, 1, 29]</text>\r\n",
       "<text text-anchor=\"start\" x=\"573\" y=\"-230.8\" font-family=\"Helvetica,sans-Serif\" font-size=\"14.00\">class = virginica</text>\r\n",
       "</g>\r\n",
       "<!-- 2&#45;&gt;10 -->\r\n",
       "<g id=\"edge10\" class=\"edge\"><title>2&#45;&gt;10</title>\r\n",
       "<path fill=\"none\" stroke=\"black\" d=\"M553.776,-341.907C562.08,-332.742 570.972,-322.927 579.523,-313.489\"/>\r\n",
       "<polygon fill=\"black\" stroke=\"black\" points=\"582.169,-315.782 586.289,-306.021 576.981,-311.082 582.169,-315.782\"/>\r\n",
       "</g>\r\n",
       "<!-- 4 -->\r\n",
       "<g id=\"node5\" class=\"node\"><title>4</title>\r\n",
       "<path fill=\"#39e581\" fill-opacity=\"0.968627\" stroke=\"black\" d=\"M270.5,-187C270.5,-187 125.5,-187 125.5,-187 119.5,-187 113.5,-181 113.5,-175 113.5,-175 113.5,-116 113.5,-116 113.5,-110 119.5,-104 125.5,-104 125.5,-104 270.5,-104 270.5,-104 276.5,-104 282.5,-110 282.5,-116 282.5,-116 282.5,-175 282.5,-175 282.5,-181 276.5,-187 270.5,-187\"/>\r\n",
       "<text text-anchor=\"start\" x=\"121.5\" y=\"-171.8\" font-family=\"Helvetica,sans-Serif\" font-size=\"14.00\">sepal length (cm) ≤ 4.95</text>\r\n",
       "<text text-anchor=\"start\" x=\"160.5\" y=\"-156.8\" font-family=\"Helvetica,sans-Serif\" font-size=\"14.00\">gini = 0.061</text>\r\n",
       "<text text-anchor=\"start\" x=\"154.5\" y=\"-141.8\" font-family=\"Helvetica,sans-Serif\" font-size=\"14.00\">samples = 32</text>\r\n",
       "<text text-anchor=\"start\" x=\"145.5\" y=\"-126.8\" font-family=\"Helvetica,sans-Serif\" font-size=\"14.00\">value = [0, 31, 1]</text>\r\n",
       "<text text-anchor=\"start\" x=\"142.5\" y=\"-111.8\" font-family=\"Helvetica,sans-Serif\" font-size=\"14.00\">class = versicolor</text>\r\n",
       "</g>\r\n",
       "<!-- 3&#45;&gt;4 -->\r\n",
       "<g id=\"edge4\" class=\"edge\"><title>3&#45;&gt;4</title>\r\n",
       "<path fill=\"none\" stroke=\"black\" d=\"M337.101,-222.907C318.845,-212.879 299.174,-202.075 280.536,-191.837\"/>\r\n",
       "<polygon fill=\"black\" stroke=\"black\" points=\"282.219,-188.768 271.769,-187.021 278.848,-194.903 282.219,-188.768\"/>\r\n",
       "</g>\r\n",
       "<!-- 7 -->\r\n",
       "<g id=\"node8\" class=\"node\"><title>7</title>\r\n",
       "<path fill=\"#8139e5\" fill-opacity=\"0.666667\" stroke=\"black\" d=\"M483.5,-187C483.5,-187 338.5,-187 338.5,-187 332.5,-187 326.5,-181 326.5,-175 326.5,-175 326.5,-116 326.5,-116 326.5,-110 332.5,-104 338.5,-104 338.5,-104 483.5,-104 483.5,-104 489.5,-104 495.5,-110 495.5,-116 495.5,-116 495.5,-175 495.5,-175 495.5,-181 489.5,-187 483.5,-187\"/>\r\n",
       "<text text-anchor=\"start\" x=\"334.5\" y=\"-171.8\" font-family=\"Helvetica,sans-Serif\" font-size=\"14.00\">sepal length (cm) ≤ 6.05</text>\r\n",
       "<text text-anchor=\"start\" x=\"373.5\" y=\"-156.8\" font-family=\"Helvetica,sans-Serif\" font-size=\"14.00\">gini = 0.375</text>\r\n",
       "<text text-anchor=\"start\" x=\"371.5\" y=\"-141.8\" font-family=\"Helvetica,sans-Serif\" font-size=\"14.00\">samples = 4</text>\r\n",
       "<text text-anchor=\"start\" x=\"362.5\" y=\"-126.8\" font-family=\"Helvetica,sans-Serif\" font-size=\"14.00\">value = [0, 1, 3]</text>\r\n",
       "<text text-anchor=\"start\" x=\"361\" y=\"-111.8\" font-family=\"Helvetica,sans-Serif\" font-size=\"14.00\">class = virginica</text>\r\n",
       "</g>\r\n",
       "<!-- 3&#45;&gt;7 -->\r\n",
       "<g id=\"edge7\" class=\"edge\"><title>3&#45;&gt;7</title>\r\n",
       "<path fill=\"none\" stroke=\"black\" d=\"M411,-222.907C411,-214.649 411,-205.864 411,-197.302\"/>\r\n",
       "<polygon fill=\"black\" stroke=\"black\" points=\"414.5,-197.021 411,-187.021 407.5,-197.021 414.5,-197.021\"/>\r\n",
       "</g>\r\n",
       "<!-- 5 -->\r\n",
       "<g id=\"node6\" class=\"node\"><title>5</title>\r\n",
       "<path fill=\"#8139e5\" stroke=\"black\" d=\"M104,-68C104,-68 12,-68 12,-68 6,-68 0,-62 0,-56 0,-56 0,-12 0,-12 0,-6 6,-0 12,-0 12,-0 104,-0 104,-0 110,-0 116,-6 116,-12 116,-12 116,-56 116,-56 116,-62 110,-68 104,-68\"/>\r\n",
       "<text text-anchor=\"start\" x=\"29\" y=\"-52.8\" font-family=\"Helvetica,sans-Serif\" font-size=\"14.00\">gini = 0.0</text>\r\n",
       "<text text-anchor=\"start\" x=\"18.5\" y=\"-37.8\" font-family=\"Helvetica,sans-Serif\" font-size=\"14.00\">samples = 1</text>\r\n",
       "<text text-anchor=\"start\" x=\"9.5\" y=\"-22.8\" font-family=\"Helvetica,sans-Serif\" font-size=\"14.00\">value = [0, 0, 1]</text>\r\n",
       "<text text-anchor=\"start\" x=\"8\" y=\"-7.8\" font-family=\"Helvetica,sans-Serif\" font-size=\"14.00\">class = virginica</text>\r\n",
       "</g>\r\n",
       "<!-- 4&#45;&gt;5 -->\r\n",
       "<g id=\"edge5\" class=\"edge\"><title>4&#45;&gt;5</title>\r\n",
       "<path fill=\"none\" stroke=\"black\" d=\"M145.869,-103.726C133.741,-94.2406 120.847,-84.1551 108.778,-74.7159\"/>\r\n",
       "<polygon fill=\"black\" stroke=\"black\" points=\"110.608,-71.7035 100.575,-68.2996 106.295,-77.2173 110.608,-71.7035\"/>\r\n",
       "</g>\r\n",
       "<!-- 6 -->\r\n",
       "<g id=\"node7\" class=\"node\"><title>6</title>\r\n",
       "<path fill=\"#39e581\" stroke=\"black\" d=\"M249.5,-68C249.5,-68 146.5,-68 146.5,-68 140.5,-68 134.5,-62 134.5,-56 134.5,-56 134.5,-12 134.5,-12 134.5,-6 140.5,-0 146.5,-0 146.5,-0 249.5,-0 249.5,-0 255.5,-0 261.5,-6 261.5,-12 261.5,-12 261.5,-56 261.5,-56 261.5,-62 255.5,-68 249.5,-68\"/>\r\n",
       "<text text-anchor=\"start\" x=\"169\" y=\"-52.8\" font-family=\"Helvetica,sans-Serif\" font-size=\"14.00\">gini = 0.0</text>\r\n",
       "<text text-anchor=\"start\" x=\"154.5\" y=\"-37.8\" font-family=\"Helvetica,sans-Serif\" font-size=\"14.00\">samples = 31</text>\r\n",
       "<text text-anchor=\"start\" x=\"145.5\" y=\"-22.8\" font-family=\"Helvetica,sans-Serif\" font-size=\"14.00\">value = [0, 31, 0]</text>\r\n",
       "<text text-anchor=\"start\" x=\"142.5\" y=\"-7.8\" font-family=\"Helvetica,sans-Serif\" font-size=\"14.00\">class = versicolor</text>\r\n",
       "</g>\r\n",
       "<!-- 4&#45;&gt;6 -->\r\n",
       "<g id=\"edge6\" class=\"edge\"><title>4&#45;&gt;6</title>\r\n",
       "<path fill=\"none\" stroke=\"black\" d=\"M198,-103.726C198,-95.5175 198,-86.8595 198,-78.56\"/>\r\n",
       "<polygon fill=\"black\" stroke=\"black\" points=\"201.5,-78.2996 198,-68.2996 194.5,-78.2996 201.5,-78.2996\"/>\r\n",
       "</g>\r\n",
       "<!-- 8 -->\r\n",
       "<g id=\"node9\" class=\"node\"><title>8</title>\r\n",
       "<path fill=\"#39e581\" stroke=\"black\" d=\"M394.5,-68C394.5,-68 291.5,-68 291.5,-68 285.5,-68 279.5,-62 279.5,-56 279.5,-56 279.5,-12 279.5,-12 279.5,-6 285.5,-0 291.5,-0 291.5,-0 394.5,-0 394.5,-0 400.5,-0 406.5,-6 406.5,-12 406.5,-12 406.5,-56 406.5,-56 406.5,-62 400.5,-68 394.5,-68\"/>\r\n",
       "<text text-anchor=\"start\" x=\"314\" y=\"-52.8\" font-family=\"Helvetica,sans-Serif\" font-size=\"14.00\">gini = 0.0</text>\r\n",
       "<text text-anchor=\"start\" x=\"303.5\" y=\"-37.8\" font-family=\"Helvetica,sans-Serif\" font-size=\"14.00\">samples = 1</text>\r\n",
       "<text text-anchor=\"start\" x=\"294.5\" y=\"-22.8\" font-family=\"Helvetica,sans-Serif\" font-size=\"14.00\">value = [0, 1, 0]</text>\r\n",
       "<text text-anchor=\"start\" x=\"287.5\" y=\"-7.8\" font-family=\"Helvetica,sans-Serif\" font-size=\"14.00\">class = versicolor</text>\r\n",
       "</g>\r\n",
       "<!-- 7&#45;&gt;8 -->\r\n",
       "<g id=\"edge8\" class=\"edge\"><title>7&#45;&gt;8</title>\r\n",
       "<path fill=\"none\" stroke=\"black\" d=\"M385.679,-103.726C380.242,-94.9703 374.487,-85.7032 369.023,-76.9051\"/>\r\n",
       "<polygon fill=\"black\" stroke=\"black\" points=\"371.928,-74.9484 363.679,-68.2996 365.981,-78.6413 371.928,-74.9484\"/>\r\n",
       "</g>\r\n",
       "<!-- 9 -->\r\n",
       "<g id=\"node10\" class=\"node\"><title>9</title>\r\n",
       "<path fill=\"#8139e5\" stroke=\"black\" d=\"M529,-68C529,-68 437,-68 437,-68 431,-68 425,-62 425,-56 425,-56 425,-12 425,-12 425,-6 431,-0 437,-0 437,-0 529,-0 529,-0 535,-0 541,-6 541,-12 541,-12 541,-56 541,-56 541,-62 535,-68 529,-68\"/>\r\n",
       "<text text-anchor=\"start\" x=\"454\" y=\"-52.8\" font-family=\"Helvetica,sans-Serif\" font-size=\"14.00\">gini = 0.0</text>\r\n",
       "<text text-anchor=\"start\" x=\"443.5\" y=\"-37.8\" font-family=\"Helvetica,sans-Serif\" font-size=\"14.00\">samples = 3</text>\r\n",
       "<text text-anchor=\"start\" x=\"434.5\" y=\"-22.8\" font-family=\"Helvetica,sans-Serif\" font-size=\"14.00\">value = [0, 0, 3]</text>\r\n",
       "<text text-anchor=\"start\" x=\"433\" y=\"-7.8\" font-family=\"Helvetica,sans-Serif\" font-size=\"14.00\">class = virginica</text>\r\n",
       "</g>\r\n",
       "<!-- 7&#45;&gt;9 -->\r\n",
       "<g id=\"edge9\" class=\"edge\"><title>7&#45;&gt;9</title>\r\n",
       "<path fill=\"none\" stroke=\"black\" d=\"M437.81,-103.726C443.568,-94.9703 449.661,-85.7032 455.446,-76.9051\"/>\r\n",
       "<polygon fill=\"black\" stroke=\"black\" points=\"458.535,-78.5781 461.104,-68.2996 452.686,-74.7322 458.535,-78.5781\"/>\r\n",
       "</g>\r\n",
       "<!-- 11 -->\r\n",
       "<g id=\"node12\" class=\"node\"><title>11</title>\r\n",
       "<path fill=\"none\" stroke=\"black\" d=\"M695.5,-187C695.5,-187 550.5,-187 550.5,-187 544.5,-187 538.5,-181 538.5,-175 538.5,-175 538.5,-116 538.5,-116 538.5,-110 544.5,-104 550.5,-104 550.5,-104 695.5,-104 695.5,-104 701.5,-104 707.5,-110 707.5,-116 707.5,-116 707.5,-175 707.5,-175 707.5,-181 701.5,-187 695.5,-187\"/>\r\n",
       "<text text-anchor=\"start\" x=\"546.5\" y=\"-171.8\" font-family=\"Helvetica,sans-Serif\" font-size=\"14.00\">sepal length (cm) ≤ 5.95</text>\r\n",
       "<text text-anchor=\"start\" x=\"594\" y=\"-156.8\" font-family=\"Helvetica,sans-Serif\" font-size=\"14.00\">gini = 0.5</text>\r\n",
       "<text text-anchor=\"start\" x=\"583.5\" y=\"-141.8\" font-family=\"Helvetica,sans-Serif\" font-size=\"14.00\">samples = 2</text>\r\n",
       "<text text-anchor=\"start\" x=\"574.5\" y=\"-126.8\" font-family=\"Helvetica,sans-Serif\" font-size=\"14.00\">value = [0, 1, 1]</text>\r\n",
       "<text text-anchor=\"start\" x=\"567.5\" y=\"-111.8\" font-family=\"Helvetica,sans-Serif\" font-size=\"14.00\">class = versicolor</text>\r\n",
       "</g>\r\n",
       "<!-- 10&#45;&gt;11 -->\r\n",
       "<g id=\"edge11\" class=\"edge\"><title>10&#45;&gt;11</title>\r\n",
       "<path fill=\"none\" stroke=\"black\" d=\"M623,-222.907C623,-214.649 623,-205.864 623,-197.302\"/>\r\n",
       "<polygon fill=\"black\" stroke=\"black\" points=\"626.5,-197.021 623,-187.021 619.5,-197.021 626.5,-197.021\"/>\r\n",
       "</g>\r\n",
       "<!-- 14 -->\r\n",
       "<g id=\"node15\" class=\"node\"><title>14</title>\r\n",
       "<path fill=\"#8139e5\" stroke=\"black\" d=\"M834.5,-179.5C834.5,-179.5 737.5,-179.5 737.5,-179.5 731.5,-179.5 725.5,-173.5 725.5,-167.5 725.5,-167.5 725.5,-123.5 725.5,-123.5 725.5,-117.5 731.5,-111.5 737.5,-111.5 737.5,-111.5 834.5,-111.5 834.5,-111.5 840.5,-111.5 846.5,-117.5 846.5,-123.5 846.5,-123.5 846.5,-167.5 846.5,-167.5 846.5,-173.5 840.5,-179.5 834.5,-179.5\"/>\r\n",
       "<text text-anchor=\"start\" x=\"757\" y=\"-164.3\" font-family=\"Helvetica,sans-Serif\" font-size=\"14.00\">gini = 0.0</text>\r\n",
       "<text text-anchor=\"start\" x=\"742.5\" y=\"-149.3\" font-family=\"Helvetica,sans-Serif\" font-size=\"14.00\">samples = 28</text>\r\n",
       "<text text-anchor=\"start\" x=\"733.5\" y=\"-134.3\" font-family=\"Helvetica,sans-Serif\" font-size=\"14.00\">value = [0, 0, 28]</text>\r\n",
       "<text text-anchor=\"start\" x=\"736\" y=\"-119.3\" font-family=\"Helvetica,sans-Serif\" font-size=\"14.00\">class = virginica</text>\r\n",
       "</g>\r\n",
       "<!-- 10&#45;&gt;14 -->\r\n",
       "<g id=\"edge14\" class=\"edge\"><title>10&#45;&gt;14</title>\r\n",
       "<path fill=\"none\" stroke=\"black\" d=\"M679.552,-222.907C696.308,-210.88 714.622,-197.735 731.261,-185.791\"/>\r\n",
       "<polygon fill=\"black\" stroke=\"black\" points=\"733.71,-188.342 739.793,-179.667 729.628,-182.655 733.71,-188.342\"/>\r\n",
       "</g>\r\n",
       "<!-- 12 -->\r\n",
       "<g id=\"node13\" class=\"node\"><title>12</title>\r\n",
       "<path fill=\"#39e581\" stroke=\"black\" d=\"M674.5,-68C674.5,-68 571.5,-68 571.5,-68 565.5,-68 559.5,-62 559.5,-56 559.5,-56 559.5,-12 559.5,-12 559.5,-6 565.5,-0 571.5,-0 571.5,-0 674.5,-0 674.5,-0 680.5,-0 686.5,-6 686.5,-12 686.5,-12 686.5,-56 686.5,-56 686.5,-62 680.5,-68 674.5,-68\"/>\r\n",
       "<text text-anchor=\"start\" x=\"594\" y=\"-52.8\" font-family=\"Helvetica,sans-Serif\" font-size=\"14.00\">gini = 0.0</text>\r\n",
       "<text text-anchor=\"start\" x=\"583.5\" y=\"-37.8\" font-family=\"Helvetica,sans-Serif\" font-size=\"14.00\">samples = 1</text>\r\n",
       "<text text-anchor=\"start\" x=\"574.5\" y=\"-22.8\" font-family=\"Helvetica,sans-Serif\" font-size=\"14.00\">value = [0, 1, 0]</text>\r\n",
       "<text text-anchor=\"start\" x=\"567.5\" y=\"-7.8\" font-family=\"Helvetica,sans-Serif\" font-size=\"14.00\">class = versicolor</text>\r\n",
       "</g>\r\n",
       "<!-- 11&#45;&gt;12 -->\r\n",
       "<g id=\"edge12\" class=\"edge\"><title>11&#45;&gt;12</title>\r\n",
       "<path fill=\"none\" stroke=\"black\" d=\"M623,-103.726C623,-95.5175 623,-86.8595 623,-78.56\"/>\r\n",
       "<polygon fill=\"black\" stroke=\"black\" points=\"626.5,-78.2996 623,-68.2996 619.5,-78.2996 626.5,-78.2996\"/>\r\n",
       "</g>\r\n",
       "<!-- 13 -->\r\n",
       "<g id=\"node14\" class=\"node\"><title>13</title>\r\n",
       "<path fill=\"#8139e5\" stroke=\"black\" d=\"M809,-68C809,-68 717,-68 717,-68 711,-68 705,-62 705,-56 705,-56 705,-12 705,-12 705,-6 711,-0 717,-0 717,-0 809,-0 809,-0 815,-0 821,-6 821,-12 821,-12 821,-56 821,-56 821,-62 815,-68 809,-68\"/>\r\n",
       "<text text-anchor=\"start\" x=\"734\" y=\"-52.8\" font-family=\"Helvetica,sans-Serif\" font-size=\"14.00\">gini = 0.0</text>\r\n",
       "<text text-anchor=\"start\" x=\"723.5\" y=\"-37.8\" font-family=\"Helvetica,sans-Serif\" font-size=\"14.00\">samples = 1</text>\r\n",
       "<text text-anchor=\"start\" x=\"714.5\" y=\"-22.8\" font-family=\"Helvetica,sans-Serif\" font-size=\"14.00\">value = [0, 0, 1]</text>\r\n",
       "<text text-anchor=\"start\" x=\"713\" y=\"-7.8\" font-family=\"Helvetica,sans-Serif\" font-size=\"14.00\">class = virginica</text>\r\n",
       "</g>\r\n",
       "<!-- 11&#45;&gt;13 -->\r\n",
       "<g id=\"edge13\" class=\"edge\"><title>11&#45;&gt;13</title>\r\n",
       "<path fill=\"none\" stroke=\"black\" d=\"M675.131,-103.726C687.259,-94.2406 700.153,-84.1551 712.222,-74.7159\"/>\r\n",
       "<polygon fill=\"black\" stroke=\"black\" points=\"714.705,-77.2173 720.425,-68.2996 710.392,-71.7035 714.705,-77.2173\"/>\r\n",
       "</g>\r\n",
       "</g>\r\n",
       "</svg>\r\n"
      ],
      "text/plain": [
       "<graphviz.files.Source at 0x14fb06eaa58>"
      ]
     },
     "execution_count": 14,
     "metadata": {},
     "output_type": "execute_result"
    }
   ],
   "source": [
    "dot_data = tree.export_graphviz(clf, out_file=None, \n",
    "                     feature_names=iris.feature_names,  \n",
    "                     class_names=iris.target_names,  \n",
    "                     filled=True, rounded=True,  \n",
    "                     special_characters=True)  \n",
    "graph = graphviz.Source(dot_data)  \n",
    "graph"
   ]
  },
  {
   "cell_type": "code",
   "execution_count": 15,
   "metadata": {},
   "outputs": [
    {
     "data": {
      "text/plain": [
       "array([1])"
      ]
     },
     "execution_count": 15,
     "metadata": {},
     "output_type": "execute_result"
    }
   ],
   "source": [
    "# prediction\n",
    "test_record = [2., 2., 0.3, 10]\n",
    "clf.predict([test_record])"
   ]
  },
  {
   "cell_type": "code",
   "execution_count": 16,
   "metadata": {},
   "outputs": [
    {
     "data": {
      "text/plain": [
       "array([0, 1, 2, 0, 1, 1, 0, 0, 1, 2, 2, 0, 1, 0, 1, 2, 0, 2, 0, 1, 1, 1,\n",
       "       2, 2, 0, 1, 0, 0, 2, 1, 2, 1, 2, 1, 0, 2, 2, 1, 0, 0, 0, 0, 1, 2,\n",
       "       2, 2, 2, 1, 2, 1])"
      ]
     },
     "execution_count": 16,
     "metadata": {},
     "output_type": "execute_result"
    }
   ],
   "source": [
    "predicted_labels = clf.predict(df_x[n_train:])\n",
    "predicted_labels"
   ]
  },
  {
   "cell_type": "code",
   "execution_count": 17,
   "metadata": {},
   "outputs": [
    {
     "data": {
      "text/plain": [
       "0.96"
      ]
     },
     "execution_count": 17,
     "metadata": {},
     "output_type": "execute_result"
    }
   ],
   "source": [
    "# model performance\n",
    "accuracy_score(df_y[n_train:], predicted_labels, normalize=True, sample_weight=None)"
   ]
  },
  {
   "cell_type": "code",
   "execution_count": 18,
   "metadata": {},
   "outputs": [
    {
     "data": {
      "text/plain": [
       "0.96"
      ]
     },
     "execution_count": 18,
     "metadata": {},
     "output_type": "execute_result"
    }
   ],
   "source": [
    "precision_score(df_y[n_train:], predicted_labels, average='micro')"
   ]
  },
  {
   "cell_type": "code",
   "execution_count": 19,
   "metadata": {},
   "outputs": [
    {
     "data": {
      "text/plain": [
       "0.96"
      ]
     },
     "execution_count": 19,
     "metadata": {},
     "output_type": "execute_result"
    }
   ],
   "source": [
    "recall_score(df_y[n_train:], predicted_labels,  average='micro', sample_weight=None)"
   ]
  },
  {
   "cell_type": "code",
   "execution_count": 20,
   "metadata": {},
   "outputs": [
    {
     "data": {
      "text/plain": [
       "array([[16,  0,  0],\n",
       "       [ 0, 16,  1],\n",
       "       [ 0,  1, 16]], dtype=int64)"
      ]
     },
     "execution_count": 20,
     "metadata": {},
     "output_type": "execute_result"
    }
   ],
   "source": [
    "confusion_matrix(df_y[n_train:], predicted_labels, labels=None, sample_weight=None)"
   ]
  },
  {
   "cell_type": "code",
   "execution_count": 21,
   "metadata": {},
   "outputs": [
    {
     "data": {
      "text/plain": [
       "(0.96, 0.96, 0.96, None)"
      ]
     },
     "execution_count": 21,
     "metadata": {},
     "output_type": "execute_result"
    }
   ],
   "source": [
    "precision_recall_fscore_support(df_y[n_train:], predicted_labels, average='micro')"
   ]
  },
  {
   "cell_type": "code",
   "execution_count": null,
   "metadata": {},
   "outputs": [],
   "source": []
  },
  {
   "cell_type": "markdown",
   "metadata": {},
   "source": [
    "# KNN "
   ]
  },
  {
   "cell_type": "code",
   "execution_count": 22,
   "metadata": {},
   "outputs": [],
   "source": [
    "from sklearn.neighbors import NearestNeighbors\n",
    "model  = NearestNeighbors(n_neighbors=2, algorithm='ball_tree')"
   ]
  },
  {
   "cell_type": "markdown",
   "metadata": {},
   "source": [
    "# Support Vector Machines"
   ]
  },
  {
   "cell_type": "code",
   "execution_count": 23,
   "metadata": {},
   "outputs": [],
   "source": [
    "from sklearn import svm\n",
    "model = svm.SVC()"
   ]
  },
  {
   "cell_type": "markdown",
   "metadata": {},
   "source": [
    "# Naive Bayes"
   ]
  },
  {
   "cell_type": "code",
   "execution_count": 24,
   "metadata": {},
   "outputs": [],
   "source": [
    "from sklearn.naive_bayes import GaussianNB\n",
    "from sklearn.naive_bayes import BernoulliNB\n",
    "from sklearn.naive_bayes import MultinomialNB\n",
    "\n",
    "model =  GaussianNB()\n",
    "model = BernoulliNB()\n",
    "model = MultinomialNB()"
   ]
  },
  {
   "cell_type": "markdown",
   "metadata": {},
   "source": [
    "# AdaBoost"
   ]
  },
  {
   "cell_type": "code",
   "execution_count": 25,
   "metadata": {},
   "outputs": [],
   "source": [
    "from sklearn.ensemble import AdaBoostClassifier\n",
    "model = AdaBoostClassifier(n_estimators=100)"
   ]
  },
  {
   "cell_type": "markdown",
   "metadata": {},
   "source": [
    "# Random Forest"
   ]
  },
  {
   "cell_type": "code",
   "execution_count": 26,
   "metadata": {},
   "outputs": [],
   "source": [
    "from sklearn.ensemble import RandomForestClassifier\n",
    "model = RandomForestClassifier(n_estimators=10, max_depth=None, min_samples_split=2, random_state=0)"
   ]
  },
  {
   "cell_type": "markdown",
   "metadata": {},
   "source": [
    "# Logistic regression"
   ]
  },
  {
   "cell_type": "code",
   "execution_count": 27,
   "metadata": {},
   "outputs": [],
   "source": [
    "from sklearn.linear_model import LogisticRegression\n",
    "model = LogisticRegression(penalty='l2', fit_intercept=True )"
   ]
  },
  {
   "cell_type": "code",
   "execution_count": null,
   "metadata": {},
   "outputs": [],
   "source": []
  }
 ],
 "metadata": {
  "kernelspec": {
   "display_name": "Python 3",
   "language": "python",
   "name": "python3"
  },
  "language_info": {
   "codemirror_mode": {
    "name": "ipython",
    "version": 3
   },
   "file_extension": ".py",
   "mimetype": "text/x-python",
   "name": "python",
   "nbconvert_exporter": "python",
   "pygments_lexer": "ipython3",
   "version": "3.6.4"
  }
 },
 "nbformat": 4,
 "nbformat_minor": 2
}
